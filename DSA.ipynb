{
 "cells": [
  {
   "cell_type": "markdown",
   "id": "b658f0e2",
   "metadata": {},
   "source": [
    "# Data Structures and Algorithms"
   ]
  },
  {
   "cell_type": "markdown",
   "id": "3e0847f6",
   "metadata": {},
   "source": [
    "## Fibonacci Sequence\n",
    "\n",
    "### 1,1,2,3,5,8,13,21,34,55,...\n",
    "\n",
    "#### Each number in the sequence when added with the number before it leads to the next number\n",
    "\n",
    "#### Golden Ration = Any Fibonacci Number / Number preceeding the Fibonacci Number = 1.618"
   ]
  },
  {
   "cell_type": "code",
   "execution_count": 33,
   "id": "74a7f792",
   "metadata": {},
   "outputs": [
    {
     "name": "stdout",
     "output_type": "stream",
     "text": [
      "Enter the number of fibonacci numbers you would like to generate10\n",
      "0\n",
      "1\n",
      "1\n",
      "2\n",
      "3\n",
      "5\n",
      "8\n",
      "13\n",
      "21\n",
      "34\n"
     ]
    }
   ],
   "source": [
    "# Create a fibonacci sequence for any given number\n",
    "\n",
    "def fib(n):\n",
    "    a = 0\n",
    "    b = 1\n",
    "    if n < 0:\n",
    "        print(\"Please enter a positive number\")\n",
    "    else:\n",
    "        if n == 1:\n",
    "            print(a)\n",
    "        else:\n",
    "            print(a)\n",
    "            print(b)\n",
    "        for i in range(2,n):\n",
    "            c = a + b\n",
    "            a = b\n",
    "            b = c\n",
    "            print(c)\n",
    "x = int(input(\"Enter the number of fibonacci numbers you would like to generate\"))\n",
    "fib(x)"
   ]
  },
  {
   "cell_type": "markdown",
   "id": "6dbb7028",
   "metadata": {},
   "source": [
    "## Time Complexity/Constraint\n",
    "\n",
    "#### The amount of time taken to solve a particular problem"
   ]
  },
  {
   "cell_type": "code",
   "execution_count": null,
   "id": "bc2bf48a",
   "metadata": {},
   "outputs": [],
   "source": []
  },
  {
   "cell_type": "markdown",
   "id": "9088fa91",
   "metadata": {},
   "source": [
    "## Space Complexity/Constraint\n",
    "\n",
    "#### The amount of space taken to solve a particular problem"
   ]
  },
  {
   "cell_type": "code",
   "execution_count": null,
   "id": "0c7c9132",
   "metadata": {},
   "outputs": [],
   "source": []
  },
  {
   "cell_type": "code",
   "execution_count": 43,
   "id": "550c939c",
   "metadata": {},
   "outputs": [
    {
     "name": "stdout",
     "output_type": "stream",
     "text": [
      "Enter the list items : 1 2 3\n",
      "3\n",
      "[1, 2, 3]\n"
     ]
    }
   ],
   "source": [
    "lst1 = [int(item) for item in input(\"Enter the list items : \").split()]\n",
    "for i in lst1:\n",
    "    if lst1[1] < i:\n",
    "        print(i)\n",
    "print(lst1)"
   ]
  },
  {
   "cell_type": "code",
   "execution_count": 42,
   "id": "0a4cf81b",
   "metadata": {},
   "outputs": [
    {
     "name": "stdout",
     "output_type": "stream",
     "text": [
      "1\n",
      "R 1 3 4\n",
      "R\n",
      "8.0\n"
     ]
    }
   ],
   "source": [
    "if __name__ == '__main__':\n",
    "    n = int(input())\n",
    "    temp = 0 \n",
    "    student_marks = {}\n",
    "    for _ in range(n):\n",
    "        name, *line = input().split()\n",
    "        scores = list(map(float, line))\n",
    "        student_marks[name] = scores\n",
    "    query_name = input()\n",
    "    for i in student_marks[query_name]:\n",
    "        temp += i\n",
    "    print(temp)\n",
    "    #average = temp / len(student_marks[query_name])\n",
    "    #print(\"%.2f\" %average)"
   ]
  },
  {
   "cell_type": "code",
   "execution_count": 41,
   "id": "806415aa",
   "metadata": {},
   "outputs": [
    {
     "data": {
      "text/plain": [
       "2.0"
      ]
     },
     "execution_count": 41,
     "metadata": {},
     "output_type": "execute_result"
    }
   ],
   "source": [
    "temp/3"
   ]
  },
  {
   "cell_type": "code",
   "execution_count": null,
   "id": "e0fbb630",
   "metadata": {},
   "outputs": [],
   "source": []
  }
 ],
 "metadata": {
  "kernelspec": {
   "display_name": "Python 3 (ipykernel)",
   "language": "python",
   "name": "python3"
  },
  "language_info": {
   "codemirror_mode": {
    "name": "ipython",
    "version": 3
   },
   "file_extension": ".py",
   "mimetype": "text/x-python",
   "name": "python",
   "nbconvert_exporter": "python",
   "pygments_lexer": "ipython3",
   "version": "3.9.7"
  }
 },
 "nbformat": 4,
 "nbformat_minor": 5
}
